{
 "cells": [
  {
   "cell_type": "markdown",
   "metadata": {
    "slideshow": {
     "slide_type": "slide"
    }
   },
   "source": [
    "## <center> Response Surface Methode <br> am Beispiel Bieranalytik <center>\n",
    "#    <center> von Eike Ahlers <center>"
   ]
  },
  {
   "cell_type": "markdown",
   "metadata": {
    "slideshow": {
     "slide_type": "slide"
    }
   },
   "source": [
    "# <center>Gliederung<center>\n",
    "\n",
    "- Grundlagen\n",
    "- Vorgehensweise\n",
    "- Auswertung\n",
    "- Übung\n"
   ]
  },
  {
   "cell_type": "markdown",
   "metadata": {
    "slideshow": {
     "slide_type": "slide"
    }
   },
   "source": [
    "# <center>Grundlagen<center>"
   ]
  },
  {
   "cell_type": "markdown",
   "metadata": {
    "slideshow": {
     "slide_type": "fragment"
    }
   },
   "source": [
    "# <center>Was ist die Response Surface Methode<center>\n",
    "\n",
    "- Sammlung statischer und mathematischer Methoden zur Optimierung von Systemen\n",
    "- Die Auswirkung y = g(x1,...,xn) +ε, wobei n = Anzahl der Einflussfaktoren, \n",
    "    <br> ε = unbekannter Fehler\n",
    "\n"
   ]
  },
  {
   "cell_type": "markdown",
   "metadata": {
    "slideshow": {
     "slide_type": "subslide"
    }
   },
   "source": [
    "# <center>Ziele der RSM<center>\n",
    "\n",
    "- Prozessoptimierung\n",
    "- beste Kombination von Variablen mit dem größten Response\n",
    "- möglichst wenige Experimente"
   ]
  },
  {
   "cell_type": "markdown",
   "metadata": {
    "slideshow": {
     "slide_type": "subslide"
    }
   },
   "source": [
    "Idee der RSM\n",
    "\n",
    "- Aus Experimente weites vorgehen erschließen\n",
    "- Resultat der Modelbildung ist eine Gleichung\n"
   ]
  },
  {
   "cell_type": "markdown",
   "metadata": {
    "slideshow": {
     "slide_type": "subslide"
    }
   },
   "source": [
    "Nachteil One-Faktor-At-A-Time\n",
    "\n",
    "- RSM = Änderung mehrerer Faktoren pro Experiment\n",
    "- COST = Änderungng eines Faktors pro Experiment"
   ]
  },
  {
   "cell_type": "markdown",
   "metadata": {
    "slideshow": {
     "slide_type": "fragment"
    }
   },
   "source": [
    "<center><video data-autoplay src=\"test.mp4\"></video><center>"
   ]
  },
  {
   "cell_type": "markdown",
   "metadata": {
    "slideshow": {
     "slide_type": "slide"
    }
   },
   "source": [
    "# <center>Vorgehensweise<center>\n",
    "<center><img src=\"RSM1.png\"  height=\"400\" width=\"800\"><center>\n"
   ]
  },
  {
   "cell_type": "markdown",
   "metadata": {
    "slideshow": {
     "slide_type": "fragment"
    }
   },
   "source": [
    "Der optimale Betriebsbereich y befindet sich im roten Bereich. Es wird versucht den Prozess immer näher in deisen Bereich zu bewegen.\n",
    "Zunächst befindet sich der Prozess weit weg und wird mittels faktorielle Experimente in Richtung des optimane Responses gelenkt.\n",
    "Befindet sich der Prozess in der Nähe vom Optimum werden genauere Methoden angewendet. \n",
    "So wird der Rahmen der Untersuchungen immer weiter in Richtung des Optimums geleitet."
   ]
  },
  {
   "cell_type": "markdown",
   "metadata": {
    "code_folding": [],
    "slideshow": {
     "slide_type": "slide"
    }
   },
   "source": [
    "# <center>Beispiel Screening (Popcorn)<center>\n",
    "\n",
    "\n",
    "-2 Faktoren: (Ölsorte und Zeit)"
   ]
  },
  {
   "cell_type": "markdown",
   "metadata": {
    "slideshow": {
     "slide_type": "fragment"
    }
   },
   "source": [
    "<center><video data-autoplay src=\"SPlot.mp4\"></video><center>"
   ]
  },
  {
   "cell_type": "markdown",
   "metadata": {
    "slideshow": {
     "slide_type": "fragment"
    }
   },
   "source": [
    "-> Nur Faktor A ist relevant. B kann vernachlässigt werden\n",
    "Folie runter für Rechenbeispiel"
   ]
  },
  {
   "cell_type": "code",
   "execution_count": null,
   "metadata": {
    "slideshow": {
     "slide_type": "fragment"
    }
   },
   "outputs": [],
   "source": [
    "library(pid)\n",
    "Zeit    <- c(-1, +1, -1, +1) # Code Einheiten für A\n",
    "Ölsorte    <- c(-1, -1, +1, +1) # Code Einheiten für B\n",
    "Response    <- c(74, 106, 76, 104) # Auswirkung: unten links,unten rechts,oben links,oben rechts\n",
    "\n",
    "model   <- lm(Response ~ Zeit * Ölsorte ) # Haupteffekte mit Interaktionen\n",
    "\n",
    "Konturdiagramm = contourPlot(model)\n",
    "ParetoPlot = paretoPlot(model)"
   ]
  },
  {
   "cell_type": "markdown",
   "metadata": {
    "slideshow": {
     "slide_type": "subslide"
    }
   },
   "source": [
    "Konturplot"
   ]
  },
  {
   "cell_type": "markdown",
   "metadata": {
    "slideshow": {
     "slide_type": "fragment"
    }
   },
   "source": [
    "<center><video data-autoplay src=\"CPlot.mp4\"></video><center>"
   ]
  },
  {
   "cell_type": "markdown",
   "metadata": {
    "slideshow": {
     "slide_type": "slide"
    }
   },
   "source": [
    "## <center>Teil 1: Anweden des first order models an einer zufälligen Stelle<center>\n",
    "#    <center> Zunächst laden wir die Daten<center>"
   ]
  },
  {
   "cell_type": "code",
   "execution_count": null,
   "metadata": {
    "slideshow": {
     "slide_type": "fragment"
    }
   },
   "outputs": [],
   "source": [
    "library(rsm,readr)\n",
    "data <- read.csv(\"TempZeit.csv\", sep=\" \") #Laden der Datei mit den Experimenten und Ergebnissen\n",
    "names(data)[1] <- \"x1\" #nicht beachten\n",
    "data # zeige die Daten\n",
    "\n"
   ]
  },
  {
   "cell_type": "code",
   "execution_count": null,
   "metadata": {
    "scrolled": false,
    "slideshow": {
     "slide_type": "fragment"
    }
   },
   "outputs": [],
   "source": [
    "RSM <- as.coded.data(data, \n",
    "              x1 ~ (Time-35)/5,\n",
    "              x2 ~ (Temp-155)/5) # Daten in Coded Units umwandelt. Dies braucht R zum berechnen\n",
    "model <- rsm(Y ~ FO(x1, x2), data = RSM) # FO = first order model # TWI Interaktionen\n",
    "summary(model) # Wiedergabge der Ergebnisse\n",
    "contour(model, ~ x1+x2, \n",
    "        image = TRUE,\n",
    "        xaxp=c(30,40,5),\n",
    "        yaxp=c(150,160,2),\n",
    "        xlabs=c(\"Zeit (min)\", \"Temperatur (°C)\")\n",
    "        )"
   ]
  },
  {
   "cell_type": "markdown",
   "metadata": {
    "slideshow": {
     "slide_type": "slide"
    }
   },
   "source": [
    "## <center>Teil 2: Anweden des first order models am neuen Hochpunkt<center>\n",
    "#    <center> Zunächst laden wir die Daten<center>"
   ]
  },
  {
   "cell_type": "code",
   "execution_count": null,
   "metadata": {
    "scrolled": true,
    "slideshow": {
     "slide_type": "fragment"
    }
   },
   "outputs": [],
   "source": [
    "library(rsm,readr)\n",
    "data <- read.csv(\"TempZeit2.csv\", sep=\" \") #Laden der Datei mit den Experimenten und Ergebnissen\n",
    "names(data)[1] <- \"x1\" #nicht beachten\n",
    "data # zeige die Daten"
   ]
  },
  {
   "cell_type": "markdown",
   "metadata": {
    "slideshow": {
     "slide_type": "fragment"
    }
   },
   "source": [
    "## <center>Nachdem die Daten geladen sind können wir das Modell durch R berechnen lassen<center>"
   ]
  },
  {
   "cell_type": "code",
   "execution_count": null,
   "metadata": {
    "scrolled": false,
    "slideshow": {
     "slide_type": "fragment"
    }
   },
   "outputs": [],
   "source": [
    "RSM <- as.coded.data(data, \n",
    "              x1 ~ (Time-85)/5,\n",
    "              x2 ~ (Temp-175)/5) # Daten in Coded Units umwandelt. Dies braucht R zum berechnen\n",
    "model <- rsm(Y ~ FO(x1, x2)+TWI(x1,x2), data = RSM) # FO = first order model # TWI Interaktionen\n",
    "summary(model) # Wiedergabge der Ergebnisse\n",
    "contour(model, ~ x1+x2, \n",
    "        image = TRUE,\n",
    "        xaxp=c(30,40,5),\n",
    "        yaxp=c(150,160,2),\n",
    "        xlabs=c(\"Zeit (min)\", \"Temperatur (°C)\")\n",
    "        )"
   ]
  },
  {
   "cell_type": "markdown",
   "metadata": {
    "slideshow": {
     "slide_type": "slide"
    }
   },
   "source": [
    "## <center>Teil 3 Testen des Central Composite Designs<center>\n",
    "# <center>Zunächst laden wir die Daten<center>"
   ]
  },
  {
   "cell_type": "code",
   "execution_count": null,
   "metadata": {
    "slideshow": {
     "slide_type": "fragment"
    }
   },
   "outputs": [],
   "source": [
    "library(rsm,readr)\n",
    "data <- read.csv(\"CenterCD.csv\", sep=\" \") #Laden der Datei mit den Experimenten und Ergebnissen\n",
    "names(data)[1] <- \"x1\" #nicht beachten\n",
    "data # zeige die Daten"
   ]
  },
  {
   "cell_type": "markdown",
   "metadata": {
    "slideshow": {
     "slide_type": "fragment"
    }
   },
   "source": [
    "## <center>Nachdem die Daten geladen sind können wir das Central Composite Design durch R berechnen lassen.<center>\n",
    "    \n",
    "## <center>Hierbei wird der Befehl PQ(x1,x2) verwendet. Es steht für den quadratischen Anteil<center>"
   ]
  },
  {
   "cell_type": "code",
   "execution_count": null,
   "metadata": {
    "scrolled": false,
    "slideshow": {
     "slide_type": "fragment"
    }
   },
   "outputs": [],
   "source": [
    "RSM <- as.coded.data(data, \n",
    "              x1 ~ (Time-85)/5,\n",
    "              x2 ~ (Temp-175)/5) # Daten in Coded Units umwandelt. Dies braucht R zum berechnen\n",
    "model <- rsm(Y ~ FO(x1, x2)+PQ(x1, x2), data = RSM) #SO = second order model. Dies beinhaltet FO, TWI und PQ = Quadratischer Anteil\n",
    "summary(model) # Wiedergabge der Ergebnisse\n",
    "contour(model, ~ x1+x2, \n",
    "        image = TRUE,\n",
    "        xaxp=c(30,40,5),\n",
    "        yaxp=c(150,160,2),\n",
    "        xlabs=c(\"Zeit (min)\", \"Temperatur (°C)\")\n",
    "        )\n",
    "\n",
    "#Darstellung als Response Surface\n",
    "persp(model, x1~x2, col = terrain.colors(50), contours = \"colors\",\n",
    "      zlab = \"Yield (%)\",\n",
    "      xlabs=c(\"Zeite (min)\", \"Temperatur (°C)\")\n",
    "      )"
   ]
  },
  {
   "cell_type": "markdown",
   "metadata": {
    "slideshow": {
     "slide_type": "fragment"
    }
   },
   "source": [
    "## <center>Nun wissen wir, das Maximum liegt bei 86.80728 Minuten und 176.28629 °C <center>\n",
    "# <center>Aber wie groß ist der Response (Auswirkung) an dieser Stelle?<center>\n",
    "# <center>Wir benutzen den Befehl \"predict\"<center>"
   ]
  },
  {
   "cell_type": "code",
   "execution_count": null,
   "metadata": {
    "scrolled": true,
    "slideshow": {
     "slide_type": "fragment"
    }
   },
   "outputs": [],
   "source": [
    "max <- data.frame(x1 = 0.361, x2 = 0.257) # Die x,x2 (coded Units) Werte für die Prognose kommen aus der Berechnung oben\n",
    "predict(model, max)"
   ]
  },
  {
   "cell_type": "markdown",
   "metadata": {
    "slideshow": {
     "slide_type": "fragment"
    }
   },
   "source": [
    "## <center>Da Modell prognostiziert uns ein maximalen Response von 80,2% <center>"
   ]
  },
  {
   "cell_type": "code",
   "execution_count": null,
   "metadata": {},
   "outputs": [],
   "source": [
    "library(rsm)\n",
    "\n",
    "# creates design with central points:\n",
    "dsg <- cube(2, n0 = 5, randomize = FALSE)\n",
    "colnames(dsg)[4]  <- \"name\"\n",
    "#dsg$Zeit <- 5*x1 +85\n",
    "\n",
    "print(dsg)\n"
   ]
  },
  {
   "cell_type": "code",
   "execution_count": null,
   "metadata": {},
   "outputs": [],
   "source": []
  },
  {
   "cell_type": "code",
   "execution_count": null,
   "metadata": {},
   "outputs": [],
   "source": []
  },
  {
   "cell_type": "code",
   "execution_count": null,
   "metadata": {},
   "outputs": [],
   "source": []
  },
  {
   "cell_type": "code",
   "execution_count": null,
   "metadata": {},
   "outputs": [],
   "source": []
  },
  {
   "cell_type": "code",
   "execution_count": null,
   "metadata": {},
   "outputs": [],
   "source": []
  },
  {
   "cell_type": "code",
   "execution_count": null,
   "metadata": {},
   "outputs": [],
   "source": []
  },
  {
   "cell_type": "code",
   "execution_count": null,
   "metadata": {},
   "outputs": [],
   "source": []
  },
  {
   "cell_type": "code",
   "execution_count": null,
   "metadata": {},
   "outputs": [],
   "source": []
  },
  {
   "cell_type": "code",
   "execution_count": null,
   "metadata": {
    "scrolled": false,
    "slideshow": {
     "slide_type": "subslide"
    }
   },
   "outputs": [],
   "source": [
    "P <- c(  0,  -1,  +1,  -1,  +1)\n",
    "T <- c(  0,  -1,  -1,  +1,  +1)\n",
    "y <- c(407, 193, 468, 310, 571) #Auswirkung: nullpunkt,unten links,unten rechts,oben links,oben rechts\n",
    "mod.base.1 <- lm(y ~ P*T)\n",
    "summary(mod.base.1)\n",
    "r=contourPlot(mod.base.1, \"P\", \"T\")"
   ]
  },
  {
   "cell_type": "code",
   "execution_count": null,
   "metadata": {},
   "outputs": [],
   "source": []
  },
  {
   "cell_type": "code",
   "execution_count": null,
   "metadata": {},
   "outputs": [],
   "source": []
  },
  {
   "cell_type": "code",
   "execution_count": null,
   "metadata": {},
   "outputs": [],
   "source": [
    "P <- c(  0,  -1,  +1,  -1,  +1)\n",
    "T <- c(  0,  -1,  -1,  +1,  +1)\n",
    "y <- c(679.5, 571, 688, 630, 733) #Auswirkung: nullpunkt,unten links,unten rechts,oben links,oben rechts\n",
    "mod.base.1 <- lm(y ~ P*T)\n",
    "summary(mod.base.1)\n",
    "r=contourPlot(mod.base.1, \"P\", \"T\")"
   ]
  }
 ],
 "metadata": {
  "celltoolbar": "Slideshow",
  "kernelspec": {
   "display_name": "R",
   "language": "R",
   "name": "ir"
  },
  "language_info": {
   "codemirror_mode": "r",
   "file_extension": ".r",
   "mimetype": "text/x-r-source",
   "name": "R",
   "pygments_lexer": "r",
   "version": "4.0.3"
  }
 },
 "nbformat": 4,
 "nbformat_minor": 4
}
